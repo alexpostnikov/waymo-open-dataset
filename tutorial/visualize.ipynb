{
 "cells": [
  {
   "cell_type": "code",
   "execution_count": 73,
   "metadata": {},
   "outputs": [],
   "source": [
    "import sys\n",
    "from pathlib import Path\n",
    "\n",
    "sys.path.append(str(Path.cwd().parent))\n",
    "# import tensorflow as tf\n",
    "from scripts.iab import AttPredictorPecNet, AttPredictorPecNetWithType, AttPredictorPecNetWithTypeD3\n",
    "from scripts.visualize import vis_cur_and_fut\n",
    "from scripts.config import build_parser\n",
    "from scripts.dataloaders import context_description, CustomImageDataset, d_collate_fn\n",
    "from scripts.rgb_loader import RgbLoader\n",
    "\n",
    "# tf.get_logger().setLevel('ERROR')\n",
    "\n",
    "import torch\n",
    "\n",
    "from tqdm.auto import tqdm\n",
    "import torch.utils.data\n",
    "\n",
    "import matplotlib.pyplot as plt\n",
    "import numpy as np\n",
    "import wandb\n",
    "import random\n",
    "from scripts.train import preprocess_batch, apply_tr, get_future\n",
    "\n",
    "random.seed(0)\n",
    "torch.manual_seed(0)\n",
    "np.random.seed(0)\n",
    "\n",
    "import os\n",
    "from scripts.iab_pl import AttPredictorPecNetWithTypeD3\n",
    "from scripts.visualize import visualize_one_step_with_future, vis_cur_and_fut"
   ]
  },
  {
   "cell_type": "code",
   "execution_count": 2,
   "metadata": {},
   "outputs": [],
   "source": [
    "class Config:\n",
    "    def __init__(self):\n",
    "        self.exp_use_points = 0\n",
    "        self.exp_use_vis = 1\n",
    "        self.exp_embed_dim = 256\n",
    "        self.exp_use_rec = 0\n",
    "        self.exp_inp_dim = 128\n",
    "        self.exp_num_blocks = 4\n",
    "        self.exp_lr = 1e-5\n",
    "        self.exp_batch_size = 1\n",
    "        self.dir_data = \"/home/jovyan/uncompressed/tf_example\"\n",
    "        self.exp_num_workers = 0\n",
    "config = Config()"
   ]
  },
  {
   "cell_type": "code",
   "execution_count": 3,
   "metadata": {},
   "outputs": [],
   "source": [
    "import pathlib\n",
    "from read_map_ds import WaymoDataset"
   ]
  },
  {
   "cell_type": "code",
   "execution_count": 4,
   "metadata": {},
   "outputs": [
    {
     "name": "stdout",
     "output_type": "stream",
     "text": [
      "loaded index file contains 11940.0 indexes to files\n"
     ]
    }
   ],
   "source": [
    "# model = AttPredictorPecNetWithTypeD3(config=config, wandb_logger=None)\n",
    "\n",
    "ds_path = config.dir_data\n",
    "assert pathlib.Path(ds_path).exists()\n",
    "\n",
    "index_file = \"training_mapstyle/index_file.txt\"\n",
    "index_file = pathlib.Path(ds_path) / index_file\n",
    "train_dataset = WaymoDataset(ds_path, index_file, rgb_index_path=\"/home/jovyan/rendered/train/index.pkl\", rgb_prefix=\"/home/jovyan/\")\n",
    "\n",
    "\n",
    "train_loader = torch.utils.data.DataLoader(train_dataset, batch_size=config.exp_batch_size,\n",
    "                                           num_workers=config.exp_num_workers, collate_fn=d_collate_fn)\n"
   ]
  },
  {
   "cell_type": "code",
   "execution_count": 5,
   "metadata": {},
   "outputs": [],
   "source": [
    "it = iter(train_loader)"
   ]
  },
  {
   "cell_type": "code",
   "execution_count": 6,
   "metadata": {},
   "outputs": [],
   "source": [
    "data = next(it)"
   ]
  },
  {
   "cell_type": "code",
   "execution_count": 7,
   "metadata": {},
   "outputs": [
    {
     "data": {
      "text/plain": [
       "[dict_keys(['state/current/x', 'state/current/y', 'state/past/x', 'state/past/y', 'state/current/velocity_x', 'state/current/velocity_y', 'state/future/x', 'state/future/y', 'state/future/valid', 'state/current/valid', 'state/past/valid', 'state/tracks_to_predict', 'roadgraph_samples/xyz', 'roadgraph_samples/id', 'roadgraph_samples/type', 'roadgraph_samples/valid', 'scenario/id', 'state/past/vel_yaw', 'state/current/vel_yaw', 'state/past/bbox_yaw', 'state/current/bbox_yaw', 'state/id', 'state/type', 'traffic_light_state/current/valid', 'state/current/width', 'state/current/length', 'traffic_light_state/current/state', 'rgbs', 'file'])]"
      ]
     },
     "execution_count": 7,
     "metadata": {},
     "output_type": "execute_result"
    }
   ],
   "source": [
    "[data.keys()]"
   ]
  },
  {
   "cell_type": "code",
   "execution_count": 8,
   "metadata": {},
   "outputs": [
    {
     "name": "stdout",
     "output_type": "stream",
     "text": [
      "b'f30f32c55238a080'\n",
      "tensor([[0, 0],\n",
      "        [0, 1],\n",
      "        [0, 2],\n",
      "        [0, 3],\n",
      "        [0, 4],\n",
      "        [0, 5],\n",
      "        [0, 6],\n",
      "        [0, 7]])\n",
      "tensor([ 21.,  31.,  79.,  83.,  91.,  93., 162., 212.])\n",
      "tensor(-2.6875)\n"
     ]
    }
   ],
   "source": [
    "print(data[\"scenario/id\"].numpy().tobytes())\n",
    "\n",
    "# print(data[\"state/id\"])\n",
    "print((data[\"state/tracks_to_predict\"]>0).nonzero())\n",
    "print(data[\"state/id\"][data[\"state/tracks_to_predict\"]>0])\n",
    "\n",
    "print(data[\"state/current/bbox_yaw\"][0,0])"
   ]
  },
  {
   "cell_type": "code",
   "execution_count": 9,
   "metadata": {},
   "outputs": [],
   "source": [
    "size_pixels=224\n",
    "import uuid\n",
    "def fig_canvas_image(fig):\n",
    "    \"\"\"Returns a [H, W, 3] uint8 np.array image from fig.canvas.tostring_rgb().\"\"\"\n",
    "    # Just enough margin in the figure to display xticks and yticks.\n",
    "    fig.subplots_adjust(\n",
    "        left=0.08, bottom=0.08, right=0.98, top=0.98, wspace=0.0, hspace=0.0)\n",
    "    fig.canvas.draw()\n",
    "    data = np.frombuffer(fig.canvas.tostring_rgb(), dtype=np.uint8)\n",
    "    return data.reshape(fig.canvas.get_width_height()[::-1] + (3,))\n",
    "\n",
    "\n",
    "def create_figure_and_axes(size_pixels):\n",
    "    \"\"\"Initializes a unique figure and axes for plotting.\"\"\"\n",
    "    fig, ax = plt.subplots(1, 1, num=uuid.uuid4())\n",
    "\n",
    "    # Sets output image to pixel resolution.\n",
    "    dpi = 100\n",
    "    size_inches = size_pixels / dpi\n",
    "    fig.set_size_inches([size_inches, size_inches])\n",
    "    fig.set_dpi(dpi)\n",
    "    fig.set_facecolor('white')\n",
    "    ax.set_facecolor('white')\n",
    "    ax.xaxis.label.set_color('black')\n",
    "    ax.tick_params(axis='x', colors='black')\n",
    "    ax.yaxis.label.set_color('black')\n",
    "    ax.tick_params(axis='y', colors='black')\n",
    "    fig.set_tight_layout(True)\n",
    "    ax.grid(False)\n",
    "    ax.set_axis_off()\n",
    "    ax.margins(x=0, y=0, tight=True)\n",
    "    return fig, ax\n",
    "\n",
    "def plot_scene_my(data, ag_id):\n",
    "    fig, ax = create_figure_and_axes(size_pixels=size_pixels)\n",
    "    yaw = data[\"state/current/bbox_yaw\"][0,ag_id]\n",
    "    rot_matrix = np.array(\n",
    "                    [\n",
    "                        [np.cos(yaw), -np.sin(yaw)],\n",
    "                        [np.sin(yaw), np.cos(yaw)],\n",
    "                    ]\n",
    "                )\n",
    "    hist = np.stack([data['state/past/x'].reshape(128,10), data['state/past/y'].reshape(128,10)], axis=-1)\n",
    "    cur = np.stack([data['state/current/x'].reshape(128), data['state/current/y'].reshape(128)], -1)\n",
    "    state = np.concatenate([hist, cur.reshape(128,1,2)], 1)\n",
    "    state = np.flip(state, 1)\n",
    "    #fut = np.stack([data['state/future/x'].reshape(128,80)[ag_id], data['state/future/y'].reshape(128,80)[ag_id]], axis=-1)\n",
    "    hist_start = state[ag_id][0]\n",
    "    pix_to_m = 224 / 40\n",
    "    shift_meters = np.array([224//6, 224//2])\n",
    "    is_valid = np.concatenate([data['state/past/valid'].reshape(128,10), data['state/current/valid'].reshape(128,1)], -1)\n",
    "    is_valid = np.flip(is_valid, 1)\n",
    "    is_fut = data['state/future/valid'].reshape(128,80)[ag_id]#.reshape(80,1)\n",
    "    \n",
    "    agent_is_valid = is_valid[ag_id]#.reshape(11,1)\n",
    "    hist_img = ((state[ag_id] - hist_start)[agent_is_valid>0])  @ rot_matrix * pix_to_m + shift_meters\n",
    "    # fut_img = ((fut - hist_start)[is_fut>0]) @ rot_matrix * pix_to_m + shift_meters\n",
    "    \n",
    "    xy_lines = (data[\"roadgraph_samples/xyz\"].reshape(20000, 3)[:,:2]  - hist_start) @ rot_matrix * pix_to_m + shift_meters\n",
    "    others_img = (state - hist_start) @ rot_matrix * pix_to_m + shift_meters\n",
    "    \n",
    "    \n",
    "    for i in range(11):\n",
    "        ax.plot(others_img[:, i, 0], others_img[:,i, 1], \"*g\", markersize=4-(i*0.3),  alpha= 1 - i/20)\n",
    "    \n",
    "#     print(((state[ag_id] - hist_start))  @ rot_matrix * pix_to_m + shift_meters)\n",
    "    \n",
    "    for i in range(len(hist_img)-1):\n",
    "        ax.plot(hist_img[:i+2,0][i:], hist_img[:i+2:,1][i:], \"b\", linewidth=6,  alpha=1 - i/13)\n",
    "    # ax.plot(fut_img[:,0], fut_img[:,1], \"r\")\n",
    "\n",
    "\n",
    "    ax.plot(xy_lines[:, 0], xy_lines[:,1], \"ok\", markersize=2.0)\n",
    "    ax.plot(xy_lines[:, 0], xy_lines[:,1], \"*k\", markersize=1.)\n",
    "    plt.xlim(0, 224)\n",
    "    plt.ylim(0, 224)\n",
    "    image = fig_canvas_image(fig)\n",
    "    plt.close(fig)\n",
    "    return image"
   ]
  },
  {
   "cell_type": "code",
   "execution_count": 14,
   "metadata": {},
   "outputs": [
    {
     "data": {
      "text/plain": [
       "(224, 224, 3)"
      ]
     },
     "execution_count": 14,
     "metadata": {},
     "output_type": "execute_result"
    },
    {
     "data": {
      "image/png": "[encoded data removed]",
      "text/plain": [
       "<Figure size 432x288 with 1 Axes>"
      ]
     },
     "metadata": {
      "needs_background": "light"
     },
     "output_type": "display_data"
    }
   ],
   "source": [
    "image = plot_scene_my(data, 3)\n",
    "plt.imshow(image)\n",
    "image.shape"
   ]
  },
  {
   "cell_type": "code",
   "execution_count": 11,
   "metadata": {},
   "outputs": [
    {
     "name": "stdout",
     "output_type": "stream",
     "text": [
      "sidaid f30f32c55238a08021.0\n",
      "sidaid f30f32c55238a08031.0\n",
      "sidaid f30f32c55238a08079.0\n",
      "sidaid f30f32c55238a08083.0\n",
      "sidaid f30f32c55238a08091.0\n",
      "sidaid f30f32c55238a08093.0\n",
      "sidaid f30f32c55238a080162.0\n",
      "sidaid f30f32c55238a080212.0\n"
     ]
    }
   ],
   "source": [
    "# image = plot_scene_my(data, 5)\n",
    "\n",
    "# plt.imshow(image)\n",
    "\n",
    "for i in (data[\"state/tracks_to_predict\"]>0).nonzero():\n",
    "    sid = data[\"scenario/id\"].numpy().tobytes().decode(\"utf-8\")\n",
    "    aid = data[\"state/id\"][0][i[1]]\n",
    "    \n",
    "    img = plot_scene_my(data, i[1])\n",
    "    print(f\"sidaid {str(sid)+str(float(aid))}\")\n",
    "    "
   ]
  },
  {
   "cell_type": "code",
   "execution_count": null,
   "metadata": {},
   "outputs": [],
   "source": [
    "# # inp\n",
    "# data = [1,2,3,4,5]\n",
    "# def f(x):\n",
    "#     return x**2\n",
    "\n",
    "# # processing (multiprocessing)\n",
    "# with Pool(os.cpu_count()-2) as p:\n",
    "#     result = p.map(f, data)\n",
    "\n",
    "# # out\n",
    "# print(result) # [1,4,9,16,25]"
   ]
  },
  {
   "cell_type": "code",
   "execution_count": 53,
   "metadata": {},
   "outputs": [
    {
     "name": "stdout",
     "output_type": "stream",
     "text": [
      "0 39747\n",
      "39747 79494\n",
      "79494 119241\n",
      "119241 158987\n",
      "158987 198734\n",
      "198734 238481\n",
      "238481 278228\n",
      "278228 317974\n",
      "317974 357721\n",
      "357721 397468\n",
      "397468 437214\n",
      "437214\n",
      "437214\n"
     ]
    }
   ],
   "source": [
    "# train_loader = torch.utils.data.DataLoader(train_dataset, batch_size=config.exp_batch_size,\n",
    "#                                            num_workers=config.exp_num_workers, collate_fn=d_collate_fn)\n",
    "import math\n",
    "\n",
    "lnsp =np.linspace(start=0, stop=len(train_dataset), num=12)\n",
    "dss = []\n",
    "for i in range(1,len(lnsp)):\n",
    "    print(math.ceil(lnsp[i-1]), math.ceil(lnsp[i]))\n",
    "    ds = torch.utils.data.Subset(train_dataset, range(math.ceil(lnsp[i-1]), math.ceil(lnsp[i])))\n",
    "    dss.append(ds)\n",
    "s = 0\n",
    "for ds in dss:\n",
    "    s+= len(ds)\n",
    "\n",
    "print(s)\n",
    "print(len(train_dataset))"
   ]
  },
  {
   "cell_type": "code",
   "execution_count": null,
   "metadata": {},
   "outputs": [],
   "source": [
    "# from multiprocessing import Pool\n",
    "# def test(i):\n",
    "#     print(i)\n",
    "#     sid = data[\"scenario/id\"].numpy().tobytes().decode(\"utf-8\")\n",
    "#     aid = data[\"state/id\"][0][i[1]]\n",
    "#     name = str(sid)+str(float(aid))\n",
    "# #     img = plot_scene_my(data, i[1])[np.newaxis]\n",
    "#     print(name)\n",
    "#     return name#, img] \n",
    "\n",
    "# # for i in (data[\"state/tracks_to_predict\"]>0).nonzero()\n",
    "# with Pool(os.cpu_count()-2) as p:\n",
    "#     result = p.map(test, (data[\"state/tracks_to_predict\"]>0).nonzero())"
   ]
  },
  {
   "cell_type": "code",
   "execution_count": 57,
   "metadata": {},
   "outputs": [],
   "source": [
    "import glob\n",
    "import pickle\n",
    "import multiprocessing\n",
    "\n",
    "def create_raster(data):\n",
    "                rgb_d = {}\n",
    "                for i in (data[\"state/tracks_to_predict\"]>0).nonzero():\n",
    "                    sid = data[\"scenario/id\"].numpy().tobytes().decode(\"utf-8\")\n",
    "                    aid = data[\"state/id\"][0][i[1]]\n",
    "                    name = str(sid)+str(float(aid))\n",
    "                    img = plot_scene_my(data, i[1])[np.newaxis]\n",
    "                    rgb_d[name] = img\n",
    "                return name, img\n",
    "\n",
    "class RgbRendererMy:\n",
    "    def __init__(self, index_path=\"renderedMy40/index.pkl\", rgb_file_name_base=\"renderedMy40/rgb\", train_loader=None):\n",
    "        self.index_path = index_path\n",
    "        self.rgb_file_name_base = rgb_file_name_base\n",
    "        self.train_loader = train_loader\n",
    "\n",
    "    def save_dict(self, di_, filename_=None):\n",
    "        if filename_ is None:\n",
    "            filename_ = self.index_path\n",
    "        with open(filename_, 'ab') as f:\n",
    "            pickle.dump(di_, f)\n",
    "\n",
    "    def save_dataset(self, train_loader=None, index_file_name=None, rgb_file_name_base=None, rgb_file_name_index=None):\n",
    "        \n",
    "        if not train_loader:\n",
    "            train_loader=self.train_loader\n",
    "        if index_file_name is None:\n",
    "            index_file_name = self.index_path\n",
    "        if rgb_file_name_base is None:\n",
    "            rgb_file_name_base = self.rgb_file_name_base\n",
    "        \n",
    "        if not rgb_file_name_index:\n",
    "            rgb_file_name_index = len(glob.glob(self.rgb_file_name_base+\"*\"))\n",
    "        print(f\" staring index {rgb_file_name_index}\")\n",
    "        rgb_holder = {}\n",
    "\n",
    "        index_dict = {}\n",
    "\n",
    "        tli = iter(train_loader)\n",
    "        for data in tqdm(tli):\n",
    "            file_index = rgb_file_name_base + str(rgb_file_name_index) + \".npz\"            \n",
    "            name, img = create_raster(data)            \n",
    "            d = {name: file_index}\n",
    "\n",
    "            index_dict = {**d, **index_dict}\n",
    "\n",
    "            rgb_holder = {**rgb_holder, **{name: img}}\n",
    "            if len(rgb_holder) >= 200:\n",
    "                np.savez_compressed(rgb_file_name_base + str(rgb_file_name_index), rgb=rgb_holder,\n",
    "                         names=np.array(list(index_dict.keys())))\n",
    "                rgb_file_name_index += 1\n",
    "                rgb_holder = {}\n",
    "                self.save_dict(index_dict, index_file_name)\n",
    "                index_dict = {}\n",
    "        self.save_dict(index_dict, index_file_name)\n",
    "        np.savez_compressed(rgb_file_name_base + str(rgb_file_name_index), rgb=rgb_holder, names=np.array(list(index_dict.keys())))\n",
    "        return\n"
   ]
  },
  {
   "cell_type": "code",
   "execution_count": 67,
   "metadata": {},
   "outputs": [],
   "source": [
    "# rends"
   ]
  },
  {
   "cell_type": "code",
   "execution_count": 71,
   "metadata": {},
   "outputs": [
    {
     "name": "stdout",
     "output_type": "stream",
     "text": [
      "10000000.0\n",
      "20000000.0\n",
      "30000000.0\n",
      "40000000.0\n",
      "50000000.0\n",
      "60000000.0\n",
      "70000000.0\n",
      "80000000.0\n",
      "90000000.0\n",
      "100000000.0\n",
      "110000000.0\n"
     ]
    }
   ],
   "source": [
    "for i in :\n",
    "    print (i[1])"
   ]
  },
  {
   "cell_type": "code",
   "execution_count": 72,
   "metadata": {},
   "outputs": [
    {
     "name": "stdout",
     "output_type": "stream",
     "text": [
      "0 39747\n",
      "39747 79494\n",
      "79494 119241\n",
      "119241 158987\n",
      "158987 198734\n",
      "198734 238481\n",
      "238481 278228\n",
      "278228 317974\n",
      "317974 357721\n",
      "357721 397468\n",
      "397468 437214\n",
      "<__main__.RgbRendererMy object at 0x7f0487b52940>\n",
      "<__main__.RgbRendererMy object at 0x7f0487b52550>\n",
      "<__main__.RgbRendererMy object at 0x7f0487b52f28>\n",
      "<__main__.RgbRendererMy object at 0x7f0487b57f28>\n",
      "<__main__.RgbRendererMy object at 0x7f0487c2d550>\n",
      "<__main__.RgbRendererMy object at 0x7f0487c2d470>\n",
      "<__main__.RgbRendererMy object at 0x7f0487bb0240>\n",
      "<__main__.RgbRendererMy object at 0x7f04871f9390>\n",
      "<__main__.RgbRendererMy object at 0x7f04871f9400>\n",
      "<__main__.RgbRendererMy object at 0x7f04871f9588>\n",
      "<__main__.RgbRendererMy object at 0x7f04871f95f8>\n"
     ]
    }
   ],
   "source": [
    "lnsp =np.linspace(start=0, stop=len(train_dataset), num=12)\n",
    "dls = []\n",
    "rends = []\n",
    "indexes = []\n",
    "\n",
    "for i in range(1,len(lnsp)):\n",
    "    print(math.ceil(lnsp[i-1]), math.ceil(lnsp[i]))\n",
    "    ds = torch.utils.data.Subset(train_dataset, range(math.ceil(lnsp[i-1]), math.ceil(lnsp[i])))\n",
    "    dl = torch.utils.data.DataLoader(ds, batch_size=config.exp_batch_size,\n",
    "                                           num_workers=config.exp_num_workers, collate_fn=d_collate_fn)\n",
    "    \n",
    "    rend = RgbRendererMy(index_path=f\"renderedMy40/index+{i}.pkl\", train_loader=train_loader) #rgb_file_name_index=\n",
    "    rends.append(rend)\n",
    "    indexes.append(f\"{i*1e7}\")\n",
    "    dls.append(dl)\n",
    "s = 0\n",
    "\n",
    "def st(inp):\n",
    "    rend, rgb_file_name_index = inp\n",
    "    print(rend)\n",
    "    # rend.save_dataset(rgb_file_name_index=rgb_file_name_index)\n",
    "    \n",
    "with multiprocessing.Pool(12) as p:\n",
    "     result = p.map(st, zip(rends, indexes))        \n",
    "\n",
    "\n",
    "\n",
    "\n",
    "\n"
   ]
  },
  {
   "cell_type": "code",
   "execution_count": 63,
   "metadata": {},
   "outputs": [],
   "source": [
    "# print(1)"
   ]
  },
  {
   "cell_type": "code",
   "execution_count": null,
   "metadata": {},
   "outputs": [],
   "source": [
    "rgBloader_my40 = RgbLoader(index_path=\"/media/robot/hdd/waymo-open-dataset-repo/tutorial/renderedMy40/index.pkl\")\n",
    "train_index_path = \"./rendered/train/index.pkl\"\n",
    "train_rgb_loader = RgbLoader(train_index_path)\n"
   ]
  },
  {
   "cell_type": "code",
   "execution_count": null,
   "metadata": {},
   "outputs": [],
   "source": [
    "it = iter(train_loader)\n",
    "data = next(it)"
   ]
  },
  {
   "cell_type": "code",
   "execution_count": null,
   "metadata": {},
   "outputs": [],
   "source": [
    "plt.imshow(train_rgb_loader.load_batch_rgb(data, prefix=\"./\")[3])"
   ]
  },
  {
   "cell_type": "code",
   "execution_count": null,
   "metadata": {},
   "outputs": [],
   "source": [
    "plt.imshow(rgBloader_my40.load_batch_rgb(data, prefix=\"./\")[3])"
   ]
  },
  {
   "cell_type": "code",
   "execution_count": null,
   "metadata": {},
   "outputs": [],
   "source": [
    "# # visualize_one_step_with_future\n",
    "# s = current_states\n",
    "# m = current_states_mask\n",
    "# visualize_one_step_with_future(s[:, 0], m[:, 0], future_states, future_states_mask, roadgraph_xyz,\n",
    "#                             'cur with fut', center_y, center_x, width, color_map, size_pixels,\n",
    "#                                         predictions=prediction, confs=confs)\n",
    "\n",
    "from matplotlib.pyplot import figure\n",
    "\n",
    "figure(figsize=(8*2, 6*2), dpi=80)()\n",
    "\n",
    "plt.imshow(vis_cur_and_fut(next(it)))"
   ]
  },
  {
   "cell_type": "code",
   "execution_count": null,
   "metadata": {},
   "outputs": [],
   "source": [
    "def vis_rgb(ag_id, data_ind):\n",
    "#     ag_id = 1\n",
    "    data = train_dataset[data_ind]\n",
    "    future = np.stack([data['state/future/x'].reshape(128,80)[ag_id], data['state/future/y'].reshape(128,80)[ag_id]], axis=-1)\n",
    "    # future -= future[0]\n",
    "    yaw = data[\"state/current/bbox_yaw\"][ag_id]\n",
    "    rot_matrix = np.array(\n",
    "                [\n",
    "                    [np.cos(yaw), -np.sin(yaw)],\n",
    "                    [np.sin(yaw), np.cos(yaw)],\n",
    "                ]\n",
    "            )\n",
    "    m_to_pix = 224/160\n",
    "\n",
    "    shift = 512\n",
    "    magic_const=3\n",
    "    raster_size=224\n",
    "    crop_size=224\n",
    "    displacement = np.array([[raster_size // 2, raster_size // 4]]) * shift\n",
    "    displacement = np.array([[raster_size // 4, raster_size // 2]])\n",
    "    # center_xy = future[0] * shift * magic_const * raster_size / crop_size\n",
    "    # centered_others = (future.reshape(-1, 2) * shift * magic_const * raster_size / crop_size - center_xy\n",
    "    #                           ) @ rot_matrix #+ displacement\n",
    "    center_xy = future[0]\n",
    "    centered_others = (future.reshape(-1, 2) - center_xy\n",
    "                              ) @ rot_matrix\n",
    "    # displacement\n",
    "    poses_pix = (centered_others * m_to_pix + displacement).astype(int)\n",
    "    #[poses_pix]\n",
    "    im_copy = np.copy(data[\"rgbs\"][0,ag_id])\n",
    "    print(im_copy.shape)\n",
    "    for i, point in enumerate(poses_pix):\n",
    "        if data[\"state/future/valid\"].reshape(128,80)[ag_id, i]:\n",
    "            im_copy[point[1],point[0],:]  = [70,0,70]\n",
    "            im_copy[point[1]-1,point[0],:]  = [70,0,70]\n",
    "        pass\n",
    "    from matplotlib.pyplot import figure\n",
    "\n",
    "    figure(figsize=(8*2, 6*2), dpi=80)\n",
    "    plt.imshow(im_copy)"
   ]
  },
  {
   "cell_type": "code",
   "execution_count": null,
   "metadata": {},
   "outputs": [],
   "source": [
    "vis_rgb(0, 8)"
   ]
  },
  {
   "cell_type": "code",
   "execution_count": null,
   "metadata": {},
   "outputs": [],
   "source": []
  },
  {
   "cell_type": "code",
   "execution_count": null,
   "metadata": {},
   "outputs": [],
   "source": []
  },
  {
   "cell_type": "code",
   "execution_count": null,
   "metadata": {},
   "outputs": [],
   "source": [
    "from scripts.rasterization import rasterize"
   ]
  },
  {
   "cell_type": "code",
   "execution_count": null,
   "metadata": {},
   "outputs": [],
   "source": [
    "rasterize(tracks_to_predict, past_x, past_y, current_x, current_y, current_yaw, past_yaw, past_valid, current_valid,\n",
    "              agent_type, roadlines_coords, roadlines_types, roadlines_valid, roadlines_ids, widths, lengths, agents_ids,\n",
    "              tl_states, tl_ids, tl_valids, future_x, future_y, future_valid, validate, crop_size=512, raster_size=224,\n",
    "              shift=2 ** 9, magic_const=3, n_channels=11):"
   ]
  },
  {
   "cell_type": "code",
   "execution_count": null,
   "metadata": {},
   "outputs": [],
   "source": [
    "batch_size = 5\n",
    "\n",
    "train_tfrecord_path = os.path.join(\"/home/jovyan/uncompressed/tf_example\", \"training/training_tfexample.*-of-01000\")\n",
    "\n",
    "train_dataset = CustomImageDataset(train_tfrecord_path, context_description)\n",
    "\n",
    "train_loader = torch.utils.data.DataLoader(train_dataset, batch_size=batch_size,\n",
    "                                           num_workers=0, collate_fn=d_collate_fn)\n",
    "\n",
    "\n",
    "test_path = os.path.join(\"/home/jovyan/uncompressed/tf_example\", \"validation/validation_tfexample.tfrecord-*-of-00150\")\n",
    "test_dataset = CustomImageDataset(test_path, context_description)\n",
    "test_loader = torch.utils.data.DataLoader(test_dataset, batch_size=batch_size,\n",
    "                                          num_workers=0, collate_fn=d_collate_fn)"
   ]
  },
  {
   "cell_type": "code",
   "execution_count": null,
   "metadata": {},
   "outputs": [],
   "source": [
    "device = \"cuda\"\n",
    "\n",
    "net = AttPredictorPecNetWithType(inp_dim=1024, embed_dim=256, num_blocks=4,\n",
    "                         out_modes=6, use_vis=1, use_rec=0,\n",
    "                         use_points=0, out_horiz=80)\n",
    "# net = torch.nn.DataParallel(net, [2])\n",
    "net = torch.nn.DataParallel(net)\n",
    "net.load_state_dict(\n",
    "    torch.load(\"/home/jovyan/waymo-open-dataset/tutorial/checkpoints/model-seed-0-epoch-0.pt\", map_location=\"cuda\"))\n",
    "\n",
    "net = net.to(device)\n",
    "\n",
    "net.eval()\n",
    "pass"
   ]
  },
  {
   "cell_type": "code",
   "execution_count": null,
   "metadata": {},
   "outputs": [],
   "source": [
    "net_old = AttPredictorPecNet(inp_dim=1024, embed_dim=256, num_blocks=4,\n",
    "                         out_modes=6, use_vis=1, use_rec=0,\n",
    "                         use_points=0, out_horiz=80)\n",
    "net_old = torch.nn.DataParallel(net_old)"
   ]
  },
  {
   "cell_type": "code",
   "execution_count": null,
   "metadata": {},
   "outputs": [],
   "source": [
    "# net_old"
   ]
  },
  {
   "cell_type": "code",
   "execution_count": null,
   "metadata": {},
   "outputs": [],
   "source": [
    "net_old.load_state_dict(\n",
    "    torch.load(\"/home/jovyan/waymo-open-dataset/tutorial/checkpoints/model-seed-0-epoch-4.pt\", map_location=\"cuda\"))\n",
    "\n",
    "net_old = net_old.to(device)\n",
    "net_old.eval()\n",
    "\n",
    "\n",
    "pass"
   ]
  },
  {
   "cell_type": "code",
   "execution_count": null,
   "metadata": {},
   "outputs": [],
   "source": [
    "iter_loader = iter(train_loader)"
   ]
  },
  {
   "cell_type": "code",
   "execution_count": null,
   "metadata": {},
   "outputs": [],
   "source": [
    "train_index_path = \"./rendered/train/index.pkl\"\n",
    "train_rgb_loader = RgbLoader(train_index_path)\n",
    "\n",
    "val_index_path = \"./rendered/val/index.pkl\"\n",
    "val_rgb_loader = RgbLoader(val_index_path)\n"
   ]
  },
  {
   "cell_type": "code",
   "execution_count": null,
   "metadata": {},
   "outputs": [],
   "source": [
    "counter = 0\n",
    "for i in tqdm(range(200)):\n",
    "    with torch.no_grad():\n",
    "        # use tqdm to iterate data\n",
    "        data = next(iter_loader)\n",
    "        # add rgb to data\n",
    "        data[\"rgbs\"] = torch.tensor(rgb_loader.load_batch_rgb(data, prefix=\"\").astype(np.float32))\n",
    "        # preprocess_batch\n",
    "        data_pr = preprocess_batch(data, net.module.use_points, net.module.use_vis)\n",
    "        # get predictionswell\n",
    "        poses, confs, goals_local, rot_mat, rot_mat_inv = net(data_pr)\n",
    "        poses = apply_tr(poses, rot_mat_inv)\n",
    "        image = vis_cur_and_fut(data, poses.detach().cpu(), confs=confs.detach().cpu())\n",
    "\n",
    "        poses1, confs1, goals_local1, rot_mat1, rot_mat_inv1 = net_old(data_pr)\n",
    "        poses1 = apply_tr(poses1, rot_mat_inv1)\n",
    "        image1 = vis_cur_and_fut(data, poses1.detach().cpu(), confs=confs1.detach().cpu())\n",
    "        # visualize\n",
    "        # create plt fipure with 2 subplots\n",
    "        fig, ax = plt.subplots(2, 1, figsize=(30, 30))\n",
    "        # plot the first subplot\n",
    "        ax[0].imshow(image)\n",
    "        ax[0].set_title('new model AttPredictorPecNetWithType, 27.04')\n",
    "        ax[0].set_xticks([])\n",
    "        ax[0].set_yticks([])\n",
    "        # plot the second subplot\n",
    "        ax[1].imshow(image1)\n",
    "        ax[1].set_title('old model AttPredictorPecNet, 26.04')\n",
    "        ax[1].set_xticks([])\n",
    "        ax[1].set_yticks([])\n",
    "        # save the figure\n",
    "        # fig.show()\n",
    "        plt.savefig(f'comparison/test{counter}.png', dpi=300)\n",
    "        counter+=1\n",
    "        plt.close()\n"
   ]
  },
  {
   "cell_type": "markdown",
   "metadata": {},
   "source": [
    "confidences not very expressive \n",
    "\n",
    "\n",
    "!!!stationary object not oriented\n",
    "\n",
    "\n",
    "types of objects is imp as well\n",
    "\n",
    "goals often not alligned (even though path is ok)"
   ]
  },
  {
   "cell_type": "code",
   "execution_count": null,
   "metadata": {},
   "outputs": [],
   "source": []
  },
  {
   "cell_type": "code",
   "execution_count": null,
   "metadata": {},
   "outputs": [],
   "source": [
    "\n"
   ]
  },
  {
   "cell_type": "code",
   "execution_count": null,
   "metadata": {},
   "outputs": [],
   "source": [
    "train_iter_loader = iter(train_loader)\n",
    "test_iter_loader = iter(test_loader)"
   ]
  },
  {
   "cell_type": "code",
   "execution_count": null,
   "metadata": {},
   "outputs": [],
   "source": [
    "test_mean_poses = []\n",
    "train_mean_poses = []\n",
    "for i in tqdm(range(1_0)):\n",
    "    train_data = next(train_iter_loader)\n",
    "    test_data =next(test_iter_loader)\n",
    "    test_batch_unpacked = preprocess_batch(test_data, 0, 0)\n",
    "    train_batch_unpacked = preprocess_batch(train_data, 0, 0)\n",
    "    test_masks, test_rot_mat, test_rot_mat_inv, test_state_masked, test_xyz_personal, test_maps  = test_batch_unpacked\n",
    "    train_masks, train_rot_mat, train_rot_mat_inv, train_state_masked, train_xyz_personal, train_maps  = train_batch_unpacked\n",
    "    \n",
    "    train_last_pose = train_state_masked[:, :, :2]#[mask>0]\n",
    "    trlp_valid = train_last_pose[train_masks.flip(-1)>0]#[train_masks[:,-1]>0]\n",
    "    \n",
    "    # masks = test_data[\"state/tracks_to_predict\"]\n",
    "    test_masks = test_data['state/past/valid'].reshape(-1,128,10)[masks>0]\n",
    "    test_last_pose = test_state_masked[:, :, :2]\n",
    "    telp_valid = test_last_pose[test_masks.flip(-1)>0]\n",
    "    # print(telp_valid.shape)\n",
    "    train_mean_poses.append(trlp_valid.mean([0]))\n",
    "    test_mean_poses.append(telp_valid.mean([0]))\n",
    "print(torch.stack(train_mean_poses).mean(0))\n",
    "print(torch.stack(test_mean_poses).mean(0))"
   ]
  },
  {
   "cell_type": "code",
   "execution_count": null,
   "metadata": {},
   "outputs": [],
   "source": [
    "test_masks"
   ]
  },
  {
   "cell_type": "code",
   "execution_count": null,
   "metadata": {},
   "outputs": [],
   "source": [
    "test_mean_poses"
   ]
  },
  {
   "cell_type": "code",
   "execution_count": null,
   "metadata": {},
   "outputs": [],
   "source": [
    "def get_local_fut_path(data):\n",
    "    batch_unpacked = preprocess_batch(data, 0, 0)\n",
    "    _, rot_mat, _, _, _, _  = batch_unpacked\n",
    "    # train_masks, train_rot_mat, train_rot_mat_inv, train_state_masked, train_xyz_personal, train_maps  = train_batch_unpacked\n",
    "    use_every_nth_prediction = 1\n",
    "    mask = data[\"state/tracks_to_predict\"]\n",
    "    fut_path = get_future(data).to(\"cuda\").permute(0, 2, 1, 3)[mask > 0]\n",
    "\n",
    "    fut_ext = torch.cat([fut_path, torch.ones_like(fut_path[:, :, :1])], -1)\n",
    "    fut_path = torch.bmm(rot_mat, fut_ext.permute(0, 2, 1)).permute(0, 2, 1)[:,\n",
    "               use_every_nth_prediction - 1::use_every_nth_prediction, :2]\n",
    "    return fut_path"
   ]
  },
  {
   "cell_type": "code",
   "execution_count": null,
   "metadata": {},
   "outputs": [],
   "source": [
    "mask = train_data[\"state/tracks_to_predict\"]\n",
    "train_data['state/future/valid'].reshape(-1,128,80)[mask>0].shape\n"
   ]
  },
  {
   "cell_type": "code",
   "execution_count": null,
   "metadata": {},
   "outputs": [],
   "source": [
    "test_data[\"rgbs\"].shape"
   ]
  },
  {
   "cell_type": "code",
   "execution_count": null,
   "metadata": {},
   "outputs": [],
   "source": [
    "torch.stack([train_state_masked[:,:,:2].mean((0,1)), train_state_masked[:,:,:2].mean((0,1))]).mean(0)"
   ]
  },
  {
   "cell_type": "code",
   "execution_count": null,
   "metadata": {},
   "outputs": [],
   "source": [
    "train_data[\"rgbs\"] = torch.tensor(train_rgb_loader.load_batch_rgb(train_data, prefix=\"\").astype(np.float32))\n",
    "test_data[\"rgbs\"] = torch.tensor(val_rgb_loader.load_batch_rgb(test_data, prefix=\"\").astype(np.float32))\n",
    "test_batch_unpacked = preprocess_batch(test_data, 0, 1)\n",
    "train_batch_unpacked = preprocess_batch(train_data, 0, 1)"
   ]
  },
  {
   "cell_type": "code",
   "execution_count": null,
   "metadata": {},
   "outputs": [],
   "source": [
    "test_masks, test_rot_mat, test_rot_mat_inv, test_state_masked, test_xyz_personal, test_maps  = test_batch_unpacked\n",
    "train_masks, train_rot_mat, train_rot_mat_inv, train_state_masked, train_xyz_personal, train_maps  = train_batch_unpacked\n"
   ]
  },
  {
   "cell_type": "code",
   "execution_count": null,
   "metadata": {},
   "outputs": [],
   "source": [
    "from matplotlib.pyplot import figure\n",
    "\n",
    "figure(figsize=(8, 6), dpi=80)\n",
    "\n",
    "plt.imshow(test_maps[2].permute(1,2,0))"
   ]
  },
  {
   "cell_type": "code",
   "execution_count": null,
   "metadata": {},
   "outputs": [],
   "source": [
    "from matplotlib.pyplot import figure\n",
    "\n",
    "figure(figsize=(8, 6), dpi=80)\n",
    "\n",
    "plt.imshow(train_maps[0].permute(1,2,0))\n",
    "# plt.imshow(train_data[\"rgbs\"][3])"
   ]
  },
  {
   "cell_type": "code",
   "execution_count": null,
   "metadata": {},
   "outputs": [],
   "source": [
    "train_maps.std()"
   ]
  },
  {
   "cell_type": "code",
   "execution_count": null,
   "metadata": {},
   "outputs": [],
   "source": [
    "print(train_state_masked.mean())\n",
    "print(test_state_masked.mean())"
   ]
  },
  {
   "cell_type": "code",
   "execution_count": null,
   "metadata": {},
   "outputs": [],
   "source": [
    "torch.set_printoptions(precision=2, sci_mode=0)\n",
    "train_data = next(train_iter_loader)\n",
    "test_data =next(test_iter_loader)\n",
    "test_batch_unpacked = preprocess_batch(test_data, 0, 0)\n",
    "train_batch_unpacked = preprocess_batch(train_data, 0, 0)\n",
    "test_masks, test_rot_mat, test_rot_mat_inv, test_state_masked, test_xyz_personal, test_maps  = test_batch_unpacked\n",
    "train_masks, train_rot_mat, train_rot_mat_inv, train_state_masked, train_xyz_personal, train_maps  = train_batch_unpacked\n",
    "print(\"test hist\")\n",
    "print(test_state_masked[:,-1,:2])\n",
    "print('-'*90)\n",
    "print(\"test fut\")\n",
    "print(get_local_fut_path(test_data)[:,-1,:])\n",
    "print('-'*90)\n",
    "print('-'*90)\n",
    "print('-'*90)\n",
    "\n",
    "print(\"train\")\n",
    "print(\"train hist\")\n",
    "print(train_state_masked[:,-1,:2])\n",
    "print('-'*90)\n",
    "print(\"train fut\")\n",
    "print(get_local_fut_path(train_data)[:,-1,:])\n"
   ]
  },
  {
   "cell_type": "code",
   "execution_count": null,
   "metadata": {},
   "outputs": [],
   "source": [
    "# test_state_masked[4,:,:2]"
   ]
  },
  {
   "cell_type": "code",
   "execution_count": null,
   "metadata": {},
   "outputs": [],
   "source": [
    "\n"
   ]
  },
  {
   "cell_type": "code",
   "execution_count": null,
   "metadata": {},
   "outputs": [],
   "source": []
  },
  {
   "cell_type": "markdown",
   "metadata": {},
   "source": [
    "#  Check new rgb"
   ]
  },
  {
   "cell_type": "code",
   "execution_count": 93,
   "metadata": {},
   "outputs": [],
   "source": [
    "index_path = \"/home/jovyan/waymo-open-dataset/tutorial/renderedMy40/index+1.pkl\"\n",
    "classical_index_path = \"/home/jovyan/rendered/train/index.pkl\""
   ]
  },
  {
   "cell_type": "code",
   "execution_count": 75,
   "metadata": {},
   "outputs": [],
   "source": [
    " def load_dict(filename_=None):\n",
    "        out_d = {}\n",
    "        with open(filename_, 'rb') as f:\n",
    "            d = {}\n",
    "            try:\n",
    "                lim = 1e5\n",
    "                dicts = []\n",
    "                while 1 and lim > 0:\n",
    "                    lim -= 1\n",
    "                    loaded_dict = pickle.load(f)\n",
    "                    dicts.append(loaded_dict)\n",
    "                    # out_d = {**out_d, **loaded_dict}\n",
    "                    \n",
    "            except EOFError:\n",
    "                pass\n",
    "        d = {k: v for e in dicts for (k, v) in e.items()}\n",
    "        print(f\"loaded index file contains {1e5-lim} indexes to files\")\n",
    "        return d\n"
   ]
  },
  {
   "cell_type": "code",
   "execution_count": 94,
   "metadata": {},
   "outputs": [
    {
     "name": "stdout",
     "output_type": "stream",
     "text": [
      "loaded index file contains 79.0 indexes to files\n",
      "loaded index file contains 11940.0 indexes to files\n"
     ]
    }
   ],
   "source": [
    "a = load_dict(index_path)\n",
    "a1 = load_dict(classical_index_path)"
   ]
  },
  {
   "cell_type": "code",
   "execution_count": 96,
   "metadata": {},
   "outputs": [
    {
     "data": {
      "text/plain": [
       "<matplotlib.image.AxesImage at 0x7f04870c2208>"
      ]
     },
     "execution_count": 96,
     "metadata": {},
     "output_type": "execute_result"
    },
    {
     "data": {
      "image/png": "[encoded data removed]",
      "text/plain": [
       "<Figure size 432x288 with 1 Axes>"
      ]
     },
     "metadata": {
      "needs_background": "light"
     },
     "output_type": "display_data"
    }
   ],
   "source": [
    "a1[\"4ca8a8090159656581.0\"]\n",
    "prefix = \"/home/jovyan/\"\n",
    "file_path = a1[\"4ca8a8090159656581.0\"]\n",
    "rgbs1 = np.load(prefix + file_path, allow_pickle=True)[\"rgb\"].reshape(-1)[0]\n",
    "plt.imshow(rgbs1[\"4ca8a8090159656581.0\"][0])"
   ]
  },
  {
   "cell_type": "code",
   "execution_count": 83,
   "metadata": {},
   "outputs": [],
   "source": [
    "prefix = \"/home/jovyan/waymo-open-dataset/tutorial/\"\n",
    "file_path = a[\"4ca8a8090159656581.0\"]\n",
    "rgbs = np.load(prefix + file_path, allow_pickle=True)[\"rgb\"].reshape(-1)[0]"
   ]
  },
  {
   "cell_type": "code",
   "execution_count": 89,
   "metadata": {},
   "outputs": [
    {
     "data": {
      "text/plain": [
       "<matplotlib.image.AxesImage at 0x7f048cd1d588>"
      ]
     },
     "execution_count": 89,
     "metadata": {},
     "output_type": "execute_result"
    },
    {
     "data": {
      "image/png": "[encoded data removed]",
      "text/plain": [
       "<Figure size 432x288 with 1 Axes>"
      ]
     },
     "metadata": {
      "needs_background": "light"
     },
     "output_type": "display_data"
    }
   ],
   "source": [
    "plt.imshow(rgbs[\"4ca8a8090159656581.0\"][0])\n"
   ]
  }
 ],
 "metadata": {
  "kernelspec": {
   "display_name": "Python 3",
   "language": "python",
   "name": "python3"
  },
  "language_info": {
   "codemirror_mode": {
    "name": "ipython",
    "version": 3
   },
   "file_extension": ".py",
   "mimetype": "text/x-python",
   "name": "python",
   "nbconvert_exporter": "python",
   "pygments_lexer": "ipython3",
   "version": "3.6.9"
  }
 },
 "nbformat": 4,
 "nbformat_minor": 5
}
