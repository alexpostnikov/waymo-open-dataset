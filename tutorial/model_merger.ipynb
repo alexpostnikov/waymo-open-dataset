{
 "cells": [
  {
   "cell_type": "code",
   "execution_count": 1,
   "id": "79379015-e6e2-4a6e-9844-653670a3b464",
   "metadata": {},
   "outputs": [],
   "source": [
    "import torch"
   ]
  },
  {
   "cell_type": "code",
   "execution_count": 2,
   "id": "a57ef5ce-ebfb-48ea-8b15-0d1d34b896b4",
   "metadata": {},
   "outputs": [
    {
     "name": "stderr",
     "output_type": "stream",
     "text": [
      "2022-04-28 10:37:49.706665: I tensorflow/stream_executor/platform/default/dso_loader.cc:48] Successfully opened dynamic library libcudart.so.10.1\n"
     ]
    }
   ],
   "source": [
    "from scripts.iab import AttPredictorPecNet, AttPredictorPecNetWithType, AttPredictorPecNetWithTypeD3"
   ]
  },
  {
   "cell_type": "code",
   "execution_count": 3,
   "id": "64e805f6-096e-4860-94d6-804d38b44dbe",
   "metadata": {},
   "outputs": [
    {
     "name": "stdout",
     "output_type": "stream",
     "text": [
      "loaded index file contains 6806.0 indexes to files\n",
      "loaded index file contains 6806.0 indexes to files\n"
     ]
    }
   ],
   "source": [
    "net2 = AttPredictorPecNetWithTypeD3(inp_dim=1024, embed_dim=256, num_blocks=4,\n",
    "                         out_modes=6, use_vis=1, use_rec=0,\n",
    "                         use_points=0, out_horiz=80)\n",
    "net2 = torch.nn.DataParallel(net2)\n",
    "net1 = AttPredictorPecNetWithType(inp_dim=1024, embed_dim=256, num_blocks=4,\n",
    "                         out_modes=6, use_vis=1, use_rec=0,\n",
    "                         use_points=0, out_horiz=80)\n",
    "net1 = torch.nn.DataParallel(net1)"
   ]
  },
  {
   "cell_type": "code",
   "execution_count": 4,
   "id": "e700f0b3-4aa1-450a-8d47-c791ff158f19",
   "metadata": {},
   "outputs": [
    {
     "data": {
      "text/plain": [
       "<All keys matched successfully>"
      ]
     },
     "execution_count": 4,
     "metadata": {},
     "output_type": "execute_result"
    }
   ],
   "source": [
    "net1.load_state_dict(\n",
    "    torch.load(\"/home/jovyan/waymo-open-dataset/tutorial/checkpoints/model-seed-0-epoch-2.pt\", map_location=\"cuda\"))"
   ]
  },
  {
   "cell_type": "code",
   "execution_count": 17,
   "id": "2e667974-0cc4-4ece-8a16-6cd518e16a49",
   "metadata": {},
   "outputs": [],
   "source": [
    "net1.module\n",
    "pass"
   ]
  },
  {
   "cell_type": "code",
   "execution_count": 5,
   "id": "7260b79f-5b28-4926-b534-fe9e968da1d5",
   "metadata": {},
   "outputs": [],
   "source": [
    "net2.module.visual = net1.module.visual"
   ]
  },
  {
   "cell_type": "code",
   "execution_count": 6,
   "id": "ef0e4b24-fec8-4d59-903a-351aac1ac5cb",
   "metadata": {},
   "outputs": [],
   "source": [
    "net2.module.latent = net1.module.latent\n",
    "net2.module.encoder = net1.module.encoder\n",
    "net2.module.decoder_goals = net1.module.decoder_goals"
   ]
  },
  {
   "cell_type": "code",
   "execution_count": 7,
   "id": "aa361100-9ed7-45f1-a9dd-8de7a4dd0130",
   "metadata": {},
   "outputs": [
    {
     "data": {
      "text/plain": [
       "DecoderTraj2(\n",
       "  (goal_embeder): Sequential(\n",
       "    (0): Linear(in_features=2, out_features=8, bias=True)\n",
       "    (1): ReLU()\n",
       "    (2): Linear(in_features=8, out_features=128, bias=True)\n",
       "  )\n",
       "  (outlayers): Sequential(\n",
       "    (0): Linear(in_features=1964, out_features=3864, bias=True)\n",
       "    (1): ReLU()\n",
       "    (2): Linear(in_features=3864, out_features=1932, bias=True)\n",
       "    (3): ReLU()\n",
       "    (4): Dropout(p=0.0, inplace=False)\n",
       "    (5): LayerNorm((1932,), eps=1e-05, elementwise_affine=True)\n",
       "    (6): Linear(in_features=1932, out_features=966, bias=True)\n",
       "  )\n",
       "  (encoder_layer): TransformerEncoderLayer(\n",
       "    (self_attn): MultiheadAttention(\n",
       "      (out_proj): _LinearWithBias(in_features=1964, out_features=1964, bias=True)\n",
       "    )\n",
       "    (linear1): Linear(in_features=1964, out_features=2048, bias=True)\n",
       "    (dropout): Dropout(p=0.1, inplace=False)\n",
       "    (linear2): Linear(in_features=2048, out_features=1964, bias=True)\n",
       "    (norm1): LayerNorm((1964,), eps=1e-05, elementwise_affine=True)\n",
       "    (norm2): LayerNorm((1964,), eps=1e-05, elementwise_affine=True)\n",
       "    (dropout1): Dropout(p=0.1, inplace=False)\n",
       "    (dropout2): Dropout(p=0.1, inplace=False)\n",
       "  )\n",
       "  (transformer_encoder): TransformerEncoder(\n",
       "    (layers): ModuleList(\n",
       "      (0): TransformerEncoderLayer(\n",
       "        (self_attn): MultiheadAttention(\n",
       "          (out_proj): _LinearWithBias(in_features=1964, out_features=1964, bias=True)\n",
       "        )\n",
       "        (linear1): Linear(in_features=1964, out_features=2048, bias=True)\n",
       "        (dropout): Dropout(p=0.1, inplace=False)\n",
       "        (linear2): Linear(in_features=2048, out_features=1964, bias=True)\n",
       "        (norm1): LayerNorm((1964,), eps=1e-05, elementwise_affine=True)\n",
       "        (norm2): LayerNorm((1964,), eps=1e-05, elementwise_affine=True)\n",
       "        (dropout1): Dropout(p=0.1, inplace=False)\n",
       "        (dropout2): Dropout(p=0.1, inplace=False)\n",
       "      )\n",
       "      (1): TransformerEncoderLayer(\n",
       "        (self_attn): MultiheadAttention(\n",
       "          (out_proj): _LinearWithBias(in_features=1964, out_features=1964, bias=True)\n",
       "        )\n",
       "        (linear1): Linear(in_features=1964, out_features=2048, bias=True)\n",
       "        (dropout): Dropout(p=0.1, inplace=False)\n",
       "        (linear2): Linear(in_features=2048, out_features=1964, bias=True)\n",
       "        (norm1): LayerNorm((1964,), eps=1e-05, elementwise_affine=True)\n",
       "        (norm2): LayerNorm((1964,), eps=1e-05, elementwise_affine=True)\n",
       "        (dropout1): Dropout(p=0.1, inplace=False)\n",
       "        (dropout2): Dropout(p=0.1, inplace=False)\n",
       "      )\n",
       "    )\n",
       "  )\n",
       "  (q_mlp): Linear(in_features=400, out_features=1932, bias=True)\n",
       "  (conf_mlp): Sequential(\n",
       "    (0): Linear(in_features=6, out_features=6, bias=True)\n",
       "    (1): ReLU()\n",
       "    (2): Linear(in_features=6, out_features=6, bias=True)\n",
       "  )\n",
       ")"
      ]
     },
     "execution_count": 7,
     "metadata": {},
     "output_type": "execute_result"
    }
   ],
   "source": [
    "net1.module.decoder_trajs"
   ]
  },
  {
   "cell_type": "code",
   "execution_count": 8,
   "id": "76551041-6872-4940-9374-346d102c074f",
   "metadata": {},
   "outputs": [],
   "source": [
    "net2.module.decoder_trajs.goal_embeder = net1.module.decoder_trajs.goal_embeder\n",
    "net2.module.decoder_trajs.goal_embeder = net1.module.decoder_trajs.goal_embeder\n",
    "net2.module.decoder_trajs.outlayers = net1.module.decoder_trajs.outlayers\n",
    "net2.module.decoder_trajs.encoder_layer = net1.module.decoder_trajs.encoder_layer\n",
    "net2.module.decoder_trajs.transformer_encoder = net1.module.decoder_trajs.transformer_encoder\n"
   ]
  },
  {
   "cell_type": "code",
   "execution_count": 9,
   "id": "772b48f0-511b-438c-a39e-f4305a6afc77",
   "metadata": {},
   "outputs": [],
   "source": [
    "ckpt_path = \"/home/jovyan/waymo-open-dataset/tutorial/checkpoints/model-seed-42-epoch-0.pt\""
   ]
  },
  {
   "cell_type": "code",
   "execution_count": 10,
   "id": "76cece21-5dfb-4d35-9612-4f5dd62f076d",
   "metadata": {},
   "outputs": [],
   "source": [
    "torch.save(net2.state_dict(), ckpt_path)"
   ]
  },
  {
   "cell_type": "code",
   "execution_count": 25,
   "id": "7b97a0c4-569e-423a-afca-05ebebf34fc9",
   "metadata": {},
   "outputs": [
    {
     "ename": "ModuleAttributeError",
     "evalue": "'DataParallel' object has no attribute '_model'",
     "output_type": "error",
     "traceback": [
      "\u001b[0;31m---------------------------------------------------------------------------\u001b[0m",
      "\u001b[0;31mModuleAttributeError\u001b[0m                      Traceback (most recent call last)",
      "\u001b[0;32m/tmp/ipykernel_49551/1576651720.py\u001b[0m in \u001b[0;36m<module>\u001b[0;34m\u001b[0m\n\u001b[0;32m----> 1\u001b[0;31m \u001b[0mnet2\u001b[0m\u001b[0;34m.\u001b[0m\u001b[0m_model\u001b[0m\u001b[0;34m\u001b[0m\u001b[0;34m\u001b[0m\u001b[0m\n\u001b[0m",
      "\u001b[0;32m/home/user/conda/lib/python3.7/site-packages/torch/nn/modules/module.py\u001b[0m in \u001b[0;36m__getattr__\u001b[0;34m(self, name)\u001b[0m\n\u001b[1;32m    770\u001b[0m                 \u001b[0;32mreturn\u001b[0m \u001b[0mmodules\u001b[0m\u001b[0;34m[\u001b[0m\u001b[0mname\u001b[0m\u001b[0;34m]\u001b[0m\u001b[0;34m\u001b[0m\u001b[0;34m\u001b[0m\u001b[0m\n\u001b[1;32m    771\u001b[0m         raise ModuleAttributeError(\"'{}' object has no attribute '{}'\".format(\n\u001b[0;32m--> 772\u001b[0;31m             type(self).__name__, name))\n\u001b[0m\u001b[1;32m    773\u001b[0m \u001b[0;34m\u001b[0m\u001b[0m\n\u001b[1;32m    774\u001b[0m     \u001b[0;32mdef\u001b[0m \u001b[0m__setattr__\u001b[0m\u001b[0;34m(\u001b[0m\u001b[0mself\u001b[0m\u001b[0;34m,\u001b[0m \u001b[0mname\u001b[0m\u001b[0;34m:\u001b[0m \u001b[0mstr\u001b[0m\u001b[0;34m,\u001b[0m \u001b[0mvalue\u001b[0m\u001b[0;34m:\u001b[0m \u001b[0mUnion\u001b[0m\u001b[0;34m[\u001b[0m\u001b[0mTensor\u001b[0m\u001b[0;34m,\u001b[0m \u001b[0;34m'Module'\u001b[0m\u001b[0;34m]\u001b[0m\u001b[0;34m)\u001b[0m \u001b[0;34m->\u001b[0m \u001b[0;32mNone\u001b[0m\u001b[0;34m:\u001b[0m\u001b[0;34m\u001b[0m\u001b[0;34m\u001b[0m\u001b[0m\n",
      "\u001b[0;31mModuleAttributeError\u001b[0m: 'DataParallel' object has no attribute '_model'"
     ]
    }
   ],
   "source": []
  }
 ],
 "metadata": {
  "kernelspec": {
   "display_name": "Python 3 (ipykernel)",
   "language": "python",
   "name": "python3"
  },
  "language_info": {
   "codemirror_mode": {
    "name": "ipython",
    "version": 3
   },
   "file_extension": ".py",
   "mimetype": "text/x-python",
   "name": "python",
   "nbconvert_exporter": "python",
   "pygments_lexer": "ipython3",
   "version": "3.7.12"
  }
 },
 "nbformat": 4,
 "nbformat_minor": 5
}
